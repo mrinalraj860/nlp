{
  "cells": [
    {
      "cell_type": "code",
      "execution_count": 17,
      "id": "5af4baad-cb39-4591-bbf4-364cde4a073c",
      "metadata": {
        "id": "5af4baad-cb39-4591-bbf4-364cde4a073c"
      },
      "outputs": [],
      "source": [
        "import pandas as pd"
      ]
    },
    {
      "cell_type": "code",
      "execution_count": 18,
      "id": "d5c09dee-abf6-43e8-8f49-cb02aa042590",
      "metadata": {
        "id": "d5c09dee-abf6-43e8-8f49-cb02aa042590"
      },
      "outputs": [],
      "source": [
        "dataset=pd.read_csv('/content/stock_data.csv')"
      ]
    },
    {
      "cell_type": "code",
      "source": [
        ""
      ],
      "metadata": {
        "id": "AfrSvPNUJaBF"
      },
      "id": "AfrSvPNUJaBF",
      "execution_count": 18,
      "outputs": []
    },
    {
      "cell_type": "code",
      "execution_count": 19,
      "id": "d4a0e6a4-2f1c-4e88-8d37-11502833271e",
      "metadata": {
        "colab": {
          "base_uri": "https://localhost:8080/",
          "height": 206
        },
        "id": "d4a0e6a4-2f1c-4e88-8d37-11502833271e",
        "outputId": "4de14b81-b24a-4e57-f5d9-a7593a360f53"
      },
      "outputs": [
        {
          "output_type": "execute_result",
          "data": {
            "text/html": [
              "\n",
              "  <div id=\"df-0273f8ed-2bb0-494a-86ec-ef3e0adfbd8b\">\n",
              "    <div class=\"colab-df-container\">\n",
              "      <div>\n",
              "<style scoped>\n",
              "    .dataframe tbody tr th:only-of-type {\n",
              "        vertical-align: middle;\n",
              "    }\n",
              "\n",
              "    .dataframe tbody tr th {\n",
              "        vertical-align: top;\n",
              "    }\n",
              "\n",
              "    .dataframe thead th {\n",
              "        text-align: right;\n",
              "    }\n",
              "</style>\n",
              "<table border=\"1\" class=\"dataframe\">\n",
              "  <thead>\n",
              "    <tr style=\"text-align: right;\">\n",
              "      <th></th>\n",
              "      <th>Text</th>\n",
              "      <th>Sentiment</th>\n",
              "    </tr>\n",
              "  </thead>\n",
              "  <tbody>\n",
              "    <tr>\n",
              "      <th>0</th>\n",
              "      <td>Kickers on my watchlist XIDE TIT SOQ PNK CPW B...</td>\n",
              "      <td>1</td>\n",
              "    </tr>\n",
              "    <tr>\n",
              "      <th>1</th>\n",
              "      <td>user: AAP MOVIE. 55% return for the FEA/GEED i...</td>\n",
              "      <td>1</td>\n",
              "    </tr>\n",
              "    <tr>\n",
              "      <th>2</th>\n",
              "      <td>user I'd be afraid to short AMZN - they are lo...</td>\n",
              "      <td>1</td>\n",
              "    </tr>\n",
              "    <tr>\n",
              "      <th>3</th>\n",
              "      <td>MNTA Over 12.00</td>\n",
              "      <td>1</td>\n",
              "    </tr>\n",
              "    <tr>\n",
              "      <th>4</th>\n",
              "      <td>OI  Over 21.37</td>\n",
              "      <td>1</td>\n",
              "    </tr>\n",
              "  </tbody>\n",
              "</table>\n",
              "</div>\n",
              "      <button class=\"colab-df-convert\" onclick=\"convertToInteractive('df-0273f8ed-2bb0-494a-86ec-ef3e0adfbd8b')\"\n",
              "              title=\"Convert this dataframe to an interactive table.\"\n",
              "              style=\"display:none;\">\n",
              "        \n",
              "  <svg xmlns=\"http://www.w3.org/2000/svg\" height=\"24px\"viewBox=\"0 0 24 24\"\n",
              "       width=\"24px\">\n",
              "    <path d=\"M0 0h24v24H0V0z\" fill=\"none\"/>\n",
              "    <path d=\"M18.56 5.44l.94 2.06.94-2.06 2.06-.94-2.06-.94-.94-2.06-.94 2.06-2.06.94zm-11 1L8.5 8.5l.94-2.06 2.06-.94-2.06-.94L8.5 2.5l-.94 2.06-2.06.94zm10 10l.94 2.06.94-2.06 2.06-.94-2.06-.94-.94-2.06-.94 2.06-2.06.94z\"/><path d=\"M17.41 7.96l-1.37-1.37c-.4-.4-.92-.59-1.43-.59-.52 0-1.04.2-1.43.59L10.3 9.45l-7.72 7.72c-.78.78-.78 2.05 0 2.83L4 21.41c.39.39.9.59 1.41.59.51 0 1.02-.2 1.41-.59l7.78-7.78 2.81-2.81c.8-.78.8-2.07 0-2.86zM5.41 20L4 18.59l7.72-7.72 1.47 1.35L5.41 20z\"/>\n",
              "  </svg>\n",
              "      </button>\n",
              "      \n",
              "  <style>\n",
              "    .colab-df-container {\n",
              "      display:flex;\n",
              "      flex-wrap:wrap;\n",
              "      gap: 12px;\n",
              "    }\n",
              "\n",
              "    .colab-df-convert {\n",
              "      background-color: #E8F0FE;\n",
              "      border: none;\n",
              "      border-radius: 50%;\n",
              "      cursor: pointer;\n",
              "      display: none;\n",
              "      fill: #1967D2;\n",
              "      height: 32px;\n",
              "      padding: 0 0 0 0;\n",
              "      width: 32px;\n",
              "    }\n",
              "\n",
              "    .colab-df-convert:hover {\n",
              "      background-color: #E2EBFA;\n",
              "      box-shadow: 0px 1px 2px rgba(60, 64, 67, 0.3), 0px 1px 3px 1px rgba(60, 64, 67, 0.15);\n",
              "      fill: #174EA6;\n",
              "    }\n",
              "\n",
              "    [theme=dark] .colab-df-convert {\n",
              "      background-color: #3B4455;\n",
              "      fill: #D2E3FC;\n",
              "    }\n",
              "\n",
              "    [theme=dark] .colab-df-convert:hover {\n",
              "      background-color: #434B5C;\n",
              "      box-shadow: 0px 1px 3px 1px rgba(0, 0, 0, 0.15);\n",
              "      filter: drop-shadow(0px 1px 2px rgba(0, 0, 0, 0.3));\n",
              "      fill: #FFFFFF;\n",
              "    }\n",
              "  </style>\n",
              "\n",
              "      <script>\n",
              "        const buttonEl =\n",
              "          document.querySelector('#df-0273f8ed-2bb0-494a-86ec-ef3e0adfbd8b button.colab-df-convert');\n",
              "        buttonEl.style.display =\n",
              "          google.colab.kernel.accessAllowed ? 'block' : 'none';\n",
              "\n",
              "        async function convertToInteractive(key) {\n",
              "          const element = document.querySelector('#df-0273f8ed-2bb0-494a-86ec-ef3e0adfbd8b');\n",
              "          const dataTable =\n",
              "            await google.colab.kernel.invokeFunction('convertToInteractive',\n",
              "                                                     [key], {});\n",
              "          if (!dataTable) return;\n",
              "\n",
              "          const docLinkHtml = 'Like what you see? Visit the ' +\n",
              "            '<a target=\"_blank\" href=https://colab.research.google.com/notebooks/data_table.ipynb>data table notebook</a>'\n",
              "            + ' to learn more about interactive tables.';\n",
              "          element.innerHTML = '';\n",
              "          dataTable['output_type'] = 'display_data';\n",
              "          await google.colab.output.renderOutput(dataTable, element);\n",
              "          const docLink = document.createElement('div');\n",
              "          docLink.innerHTML = docLinkHtml;\n",
              "          element.appendChild(docLink);\n",
              "        }\n",
              "      </script>\n",
              "    </div>\n",
              "  </div>\n",
              "  "
            ],
            "text/plain": [
              "                                                Text  Sentiment\n",
              "0  Kickers on my watchlist XIDE TIT SOQ PNK CPW B...          1\n",
              "1  user: AAP MOVIE. 55% return for the FEA/GEED i...          1\n",
              "2  user I'd be afraid to short AMZN - they are lo...          1\n",
              "3                                  MNTA Over 12.00            1\n",
              "4                                   OI  Over 21.37            1"
            ]
          },
          "metadata": {},
          "execution_count": 19
        }
      ],
      "source": [
        "dataset.head()"
      ]
    },
    {
      "cell_type": "code",
      "execution_count": 20,
      "id": "b19247a6-f281-4382-b1dd-d7c20e20a1ae",
      "metadata": {
        "colab": {
          "base_uri": "https://localhost:8080/"
        },
        "id": "b19247a6-f281-4382-b1dd-d7c20e20a1ae",
        "outputId": "8defea59-56a2-49b0-937e-ecfe87d53392"
      },
      "outputs": [
        {
          "output_type": "execute_result",
          "data": {
            "text/plain": [
              "(5791, 2)"
            ]
          },
          "metadata": {},
          "execution_count": 20
        }
      ],
      "source": [
        "dataset.shape"
      ]
    },
    {
      "cell_type": "code",
      "execution_count": 21,
      "id": "3e3b4f9b-f930-4cde-b329-295288621a28",
      "metadata": {
        "colab": {
          "base_uri": "https://localhost:8080/",
          "height": 206
        },
        "id": "3e3b4f9b-f930-4cde-b329-295288621a28",
        "outputId": "2b085069-7975-4a77-a6e0-10b27186750a"
      },
      "outputs": [
        {
          "output_type": "execute_result",
          "data": {
            "text/html": [
              "\n",
              "  <div id=\"df-b6c276d2-abbc-4d85-b05c-d38814e65d54\">\n",
              "    <div class=\"colab-df-container\">\n",
              "      <div>\n",
              "<style scoped>\n",
              "    .dataframe tbody tr th:only-of-type {\n",
              "        vertical-align: middle;\n",
              "    }\n",
              "\n",
              "    .dataframe tbody tr th {\n",
              "        vertical-align: top;\n",
              "    }\n",
              "\n",
              "    .dataframe thead th {\n",
              "        text-align: right;\n",
              "    }\n",
              "</style>\n",
              "<table border=\"1\" class=\"dataframe\">\n",
              "  <thead>\n",
              "    <tr style=\"text-align: right;\">\n",
              "      <th></th>\n",
              "      <th>Text</th>\n",
              "      <th>Sentiment</th>\n",
              "    </tr>\n",
              "  </thead>\n",
              "  <tbody>\n",
              "    <tr>\n",
              "      <th>5786</th>\n",
              "      <td>Industry body CII said #discoms are likely to ...</td>\n",
              "      <td>-1</td>\n",
              "    </tr>\n",
              "    <tr>\n",
              "      <th>5787</th>\n",
              "      <td>#Gold prices slip below Rs 46,000 as #investor...</td>\n",
              "      <td>-1</td>\n",
              "    </tr>\n",
              "    <tr>\n",
              "      <th>5788</th>\n",
              "      <td>Workers at Bajaj Auto have agreed to a 10% wag...</td>\n",
              "      <td>1</td>\n",
              "    </tr>\n",
              "    <tr>\n",
              "      <th>5789</th>\n",
              "      <td>#Sharemarket LIVE: Sensex off day’s high, up 6...</td>\n",
              "      <td>1</td>\n",
              "    </tr>\n",
              "    <tr>\n",
              "      <th>5790</th>\n",
              "      <td>#Sensex, #Nifty climb off day's highs, still u...</td>\n",
              "      <td>1</td>\n",
              "    </tr>\n",
              "  </tbody>\n",
              "</table>\n",
              "</div>\n",
              "      <button class=\"colab-df-convert\" onclick=\"convertToInteractive('df-b6c276d2-abbc-4d85-b05c-d38814e65d54')\"\n",
              "              title=\"Convert this dataframe to an interactive table.\"\n",
              "              style=\"display:none;\">\n",
              "        \n",
              "  <svg xmlns=\"http://www.w3.org/2000/svg\" height=\"24px\"viewBox=\"0 0 24 24\"\n",
              "       width=\"24px\">\n",
              "    <path d=\"M0 0h24v24H0V0z\" fill=\"none\"/>\n",
              "    <path d=\"M18.56 5.44l.94 2.06.94-2.06 2.06-.94-2.06-.94-.94-2.06-.94 2.06-2.06.94zm-11 1L8.5 8.5l.94-2.06 2.06-.94-2.06-.94L8.5 2.5l-.94 2.06-2.06.94zm10 10l.94 2.06.94-2.06 2.06-.94-2.06-.94-.94-2.06-.94 2.06-2.06.94z\"/><path d=\"M17.41 7.96l-1.37-1.37c-.4-.4-.92-.59-1.43-.59-.52 0-1.04.2-1.43.59L10.3 9.45l-7.72 7.72c-.78.78-.78 2.05 0 2.83L4 21.41c.39.39.9.59 1.41.59.51 0 1.02-.2 1.41-.59l7.78-7.78 2.81-2.81c.8-.78.8-2.07 0-2.86zM5.41 20L4 18.59l7.72-7.72 1.47 1.35L5.41 20z\"/>\n",
              "  </svg>\n",
              "      </button>\n",
              "      \n",
              "  <style>\n",
              "    .colab-df-container {\n",
              "      display:flex;\n",
              "      flex-wrap:wrap;\n",
              "      gap: 12px;\n",
              "    }\n",
              "\n",
              "    .colab-df-convert {\n",
              "      background-color: #E8F0FE;\n",
              "      border: none;\n",
              "      border-radius: 50%;\n",
              "      cursor: pointer;\n",
              "      display: none;\n",
              "      fill: #1967D2;\n",
              "      height: 32px;\n",
              "      padding: 0 0 0 0;\n",
              "      width: 32px;\n",
              "    }\n",
              "\n",
              "    .colab-df-convert:hover {\n",
              "      background-color: #E2EBFA;\n",
              "      box-shadow: 0px 1px 2px rgba(60, 64, 67, 0.3), 0px 1px 3px 1px rgba(60, 64, 67, 0.15);\n",
              "      fill: #174EA6;\n",
              "    }\n",
              "\n",
              "    [theme=dark] .colab-df-convert {\n",
              "      background-color: #3B4455;\n",
              "      fill: #D2E3FC;\n",
              "    }\n",
              "\n",
              "    [theme=dark] .colab-df-convert:hover {\n",
              "      background-color: #434B5C;\n",
              "      box-shadow: 0px 1px 3px 1px rgba(0, 0, 0, 0.15);\n",
              "      filter: drop-shadow(0px 1px 2px rgba(0, 0, 0, 0.3));\n",
              "      fill: #FFFFFF;\n",
              "    }\n",
              "  </style>\n",
              "\n",
              "      <script>\n",
              "        const buttonEl =\n",
              "          document.querySelector('#df-b6c276d2-abbc-4d85-b05c-d38814e65d54 button.colab-df-convert');\n",
              "        buttonEl.style.display =\n",
              "          google.colab.kernel.accessAllowed ? 'block' : 'none';\n",
              "\n",
              "        async function convertToInteractive(key) {\n",
              "          const element = document.querySelector('#df-b6c276d2-abbc-4d85-b05c-d38814e65d54');\n",
              "          const dataTable =\n",
              "            await google.colab.kernel.invokeFunction('convertToInteractive',\n",
              "                                                     [key], {});\n",
              "          if (!dataTable) return;\n",
              "\n",
              "          const docLinkHtml = 'Like what you see? Visit the ' +\n",
              "            '<a target=\"_blank\" href=https://colab.research.google.com/notebooks/data_table.ipynb>data table notebook</a>'\n",
              "            + ' to learn more about interactive tables.';\n",
              "          element.innerHTML = '';\n",
              "          dataTable['output_type'] = 'display_data';\n",
              "          await google.colab.output.renderOutput(dataTable, element);\n",
              "          const docLink = document.createElement('div');\n",
              "          docLink.innerHTML = docLinkHtml;\n",
              "          element.appendChild(docLink);\n",
              "        }\n",
              "      </script>\n",
              "    </div>\n",
              "  </div>\n",
              "  "
            ],
            "text/plain": [
              "                                                   Text  Sentiment\n",
              "5786  Industry body CII said #discoms are likely to ...         -1\n",
              "5787  #Gold prices slip below Rs 46,000 as #investor...         -1\n",
              "5788  Workers at Bajaj Auto have agreed to a 10% wag...          1\n",
              "5789  #Sharemarket LIVE: Sensex off day’s high, up 6...          1\n",
              "5790  #Sensex, #Nifty climb off day's highs, still u...          1"
            ]
          },
          "metadata": {},
          "execution_count": 21
        }
      ],
      "source": [
        "dataset.tail()"
      ]
    },
    {
      "cell_type": "code",
      "execution_count": 22,
      "id": "e56f73a3-e6fc-4754-b442-11ca34557a82",
      "metadata": {
        "colab": {
          "base_uri": "https://localhost:8080/"
        },
        "id": "e56f73a3-e6fc-4754-b442-11ca34557a82",
        "outputId": "16b8def3-ce62-4a08-dc12-a6b3a1d44568"
      },
      "outputs": [
        {
          "output_type": "stream",
          "name": "stdout",
          "text": [
            "2106\n"
          ]
        }
      ],
      "source": [
        "count=0\n",
        "for value in dataset['Sentiment']:\n",
        "    if value==-1:\n",
        "        count=count+1\n",
        "print(count)"
      ]
    },
    {
      "cell_type": "code",
      "execution_count": 23,
      "id": "ebe91593-3201-4526-9948-9f601cd09a1d",
      "metadata": {
        "colab": {
          "base_uri": "https://localhost:8080/"
        },
        "id": "ebe91593-3201-4526-9948-9f601cd09a1d",
        "outputId": "43e5e95e-2941-40c8-823f-87ff6db72f3c"
      },
      "outputs": [
        {
          "output_type": "stream",
          "name": "stdout",
          "text": [
            "3685\n"
          ]
        }
      ],
      "source": [
        "count=0\n",
        "for value in dataset['Sentiment']:\n",
        "    if value==1:\n",
        "        count=count+1\n",
        "print(count)"
      ]
    },
    {
      "cell_type": "code",
      "execution_count": 24,
      "id": "102334c5-b128-4ddd-894b-367f6947f270",
      "metadata": {
        "id": "102334c5-b128-4ddd-894b-367f6947f270"
      },
      "outputs": [],
      "source": [
        "import numpy as np\n",
        "import matplotlib.pyplot as plt\n"
      ]
    },
    {
      "cell_type": "code",
      "execution_count": 25,
      "id": "8ed79a60-6078-4d71-a317-4095f503e266",
      "metadata": {
        "id": "8ed79a60-6078-4d71-a317-4095f503e266"
      },
      "outputs": [],
      "source": [
        "import tensorflow as tf\n",
        "from tensorflow.keras.preprocessing.text import Tokenizer\n",
        "from tensorflow.keras.preprocessing.sequence import pad_sequences"
      ]
    },
    {
      "cell_type": "code",
      "execution_count": 26,
      "id": "dbac3371-ba10-41d5-98dd-aaf7a8272640",
      "metadata": {
        "id": "dbac3371-ba10-41d5-98dd-aaf7a8272640"
      },
      "outputs": [],
      "source": [
        "tokenizer = Tokenizer(num_words = 100, oov_token=\"<OOV>\")"
      ]
    },
    {
      "cell_type": "code",
      "execution_count": 27,
      "id": "a5ba5232-2a20-4a79-b9f8-d0b9ce053a6f",
      "metadata": {
        "id": "a5ba5232-2a20-4a79-b9f8-d0b9ce053a6f"
      },
      "outputs": [],
      "source": [
        "tokenizer.fit_on_texts(dataset['Text'])"
      ]
    },
    {
      "cell_type": "code",
      "execution_count": 28,
      "id": "9b2a4c6f-3c54-48ec-b577-4db276057a5c",
      "metadata": {
        "colab": {
          "base_uri": "https://localhost:8080/"
        },
        "id": "9b2a4c6f-3c54-48ec-b577-4db276057a5c",
        "outputId": "e73fd9d2-516b-46ce-cc00-50f689cc962c"
      },
      "outputs": [
        {
          "output_type": "stream",
          "name": "stdout",
          "text": [
            "[[ 0  0  0 ... 80  1  1]\n",
            " [ 0  0  0 ...  2  1  1]\n",
            " [ 0  0  0 ... 31  4  1]\n",
            " ...\n",
            " [ 0  0  0 ... 12 13  1]\n",
            " [ 0  0  0 ... 12 13  1]\n",
            " [ 0  0  0 ... 12 13  1]]\n"
          ]
        }
      ],
      "source": [
        "train_x = pad_sequences(tokenizer.texts_to_sequences(dataset['Text']),padding='pre', maxlen=50)\n",
        "print(train_x)"
      ]
    },
    {
      "cell_type": "code",
      "execution_count": 29,
      "id": "51f73c1a-f6db-4af2-aeea-13cf3e9fff02",
      "metadata": {
        "id": "51f73c1a-f6db-4af2-aeea-13cf3e9fff02"
      },
      "outputs": [],
      "source": [
        "y=dataset['Sentiment']"
      ]
    },
    {
      "cell_type": "code",
      "execution_count": 30,
      "id": "bf6b048c-a04a-4443-b75f-183413f6181a",
      "metadata": {
        "colab": {
          "base_uri": "https://localhost:8080/"
        },
        "id": "bf6b048c-a04a-4443-b75f-183413f6181a",
        "outputId": "c9108508-6b7e-4284-dc4f-c1481427ee80"
      },
      "outputs": [
        {
          "output_type": "stream",
          "name": "stdout",
          "text": [
            "0       1\n",
            "1       1\n",
            "2       1\n",
            "3       1\n",
            "4       1\n",
            "       ..\n",
            "5786   -1\n",
            "5787   -1\n",
            "5788    1\n",
            "5789    1\n",
            "5790    1\n",
            "Name: Sentiment, Length: 5791, dtype: int64\n"
          ]
        }
      ],
      "source": [
        "print(y)"
      ]
    },
    {
      "cell_type": "code",
      "execution_count": 31,
      "id": "6a0b038c-5ea8-41f8-a142-72745c0a0ea9",
      "metadata": {
        "id": "6a0b038c-5ea8-41f8-a142-72745c0a0ea9"
      },
      "outputs": [],
      "source": [
        "model = tf.keras.Sequential([\n",
        "    tf.keras.layers.Embedding(50000, 300, input_length=50),\n",
        "    tf.keras.layers.Bidirectional(tf.keras.layers.GRU(128,return_sequences=True)),\n",
        "    tf.keras.layers.Bidirectional(tf.keras.layers.GRU(64,return_sequences=True)),\n",
        "    tf.keras.layers.Bidirectional(tf.keras.layers.GRU(32,return_sequences=True)),\n",
        "    tf.keras.layers.Bidirectional(tf.keras.layers.GRU(16,return_sequences=True)),\n",
        "    tf.keras.layers.Bidirectional(tf.keras.layers.GRU(8)),\n",
        "    tf.keras.layers.Dense(4, activation='relu'),\n",
        "    tf.keras.layers.Dense(1, activation='sigmoid')\n",
        "])\n",
        "model.compile(loss='binary_crossentropy',optimizer='adam',metrics=['accuracy'])"
      ]
    },
    {
      "cell_type": "code",
      "execution_count": 32,
      "id": "7e0a60a7-7629-4515-aaab-949ec5a7c3d9",
      "metadata": {
        "colab": {
          "base_uri": "https://localhost:8080/"
        },
        "id": "7e0a60a7-7629-4515-aaab-949ec5a7c3d9",
        "outputId": "a3d26c42-05a2-4024-ebdf-6cabb429acec"
      },
      "outputs": [
        {
          "output_type": "stream",
          "name": "stdout",
          "text": [
            "Epoch 1/50\n",
            "181/181 [==============================] - 45s 149ms/step - loss: 0.5135 - accuracy: 0.1207\n",
            "Epoch 2/50\n",
            "181/181 [==============================] - 27s 148ms/step - loss: 0.2971 - accuracy: 0.2910\n",
            "Epoch 3/50\n",
            "181/181 [==============================] - 27s 149ms/step - loss: 0.0535 - accuracy: 0.3022\n",
            "Epoch 4/50\n",
            "181/181 [==============================] - 27s 149ms/step - loss: -0.1916 - accuracy: 0.3155\n",
            "Epoch 5/50\n",
            "181/181 [==============================] - 27s 148ms/step - loss: -0.4201 - accuracy: 0.3245\n",
            "Epoch 6/50\n",
            "181/181 [==============================] - 27s 148ms/step - loss: -0.6655 - accuracy: 0.3281\n",
            "Epoch 7/50\n",
            "181/181 [==============================] - 27s 149ms/step - loss: -1.1057 - accuracy: 0.3148\n",
            "Epoch 8/50\n",
            "181/181 [==============================] - 27s 149ms/step - loss: -1.6177 - accuracy: 0.3407\n",
            "Epoch 9/50\n",
            "181/181 [==============================] - 27s 149ms/step - loss: -2.3433 - accuracy: 0.3391\n",
            "Epoch 10/50\n",
            "181/181 [==============================] - 27s 150ms/step - loss: -2.7185 - accuracy: 0.3461\n",
            "Epoch 11/50\n",
            "181/181 [==============================] - 27s 150ms/step - loss: -3.5378 - accuracy: 0.4120\n",
            "Epoch 12/50\n",
            "181/181 [==============================] - 27s 150ms/step - loss: -4.5766 - accuracy: 0.4158\n",
            "Epoch 13/50\n",
            "181/181 [==============================] - 27s 150ms/step - loss: -5.5786 - accuracy: 0.4124\n",
            "Epoch 14/50\n",
            "181/181 [==============================] - 27s 150ms/step - loss: -6.9749 - accuracy: 0.3654\n",
            "Epoch 15/50\n",
            "181/181 [==============================] - 27s 149ms/step - loss: -7.5175 - accuracy: 0.3847\n",
            "Epoch 16/50\n",
            "181/181 [==============================] - 27s 150ms/step - loss: -8.8543 - accuracy: 0.3360\n",
            "Epoch 17/50\n",
            "181/181 [==============================] - 27s 149ms/step - loss: -9.1835 - accuracy: 0.3573\n",
            "Epoch 18/50\n",
            "181/181 [==============================] - 27s 150ms/step - loss: -10.5279 - accuracy: 0.3650\n",
            "Epoch 19/50\n",
            "181/181 [==============================] - 27s 149ms/step - loss: -11.8574 - accuracy: 0.3785\n",
            "Epoch 20/50\n",
            "181/181 [==============================] - 27s 149ms/step - loss: -12.9494 - accuracy: 0.3739\n",
            "Epoch 21/50\n",
            "181/181 [==============================] - 27s 149ms/step - loss: -15.1633 - accuracy: 0.3706\n",
            "Epoch 22/50\n",
            "181/181 [==============================] - 27s 149ms/step - loss: -17.1372 - accuracy: 0.3868\n",
            "Epoch 23/50\n",
            "181/181 [==============================] - 27s 150ms/step - loss: -18.5777 - accuracy: 0.3837\n",
            "Epoch 24/50\n",
            "181/181 [==============================] - 27s 150ms/step - loss: -20.9894 - accuracy: 0.3739\n",
            "Epoch 25/50\n",
            "181/181 [==============================] - 27s 150ms/step - loss: -19.8111 - accuracy: 0.3543\n",
            "Epoch 26/50\n",
            "181/181 [==============================] - 27s 150ms/step - loss: -18.7275 - accuracy: 0.2861\n",
            "Epoch 27/50\n",
            "181/181 [==============================] - 27s 150ms/step - loss: -22.8352 - accuracy: 0.3250\n",
            "Epoch 28/50\n",
            "181/181 [==============================] - 27s 150ms/step - loss: -24.4899 - accuracy: 0.3150\n",
            "Epoch 29/50\n",
            "181/181 [==============================] - 27s 150ms/step - loss: -27.4342 - accuracy: 0.3445\n",
            "Epoch 30/50\n",
            "181/181 [==============================] - 27s 150ms/step - loss: -30.7912 - accuracy: 0.3378\n",
            "Epoch 31/50\n",
            "181/181 [==============================] - 27s 150ms/step - loss: -31.5075 - accuracy: 0.3678\n",
            "Epoch 32/50\n",
            "181/181 [==============================] - 27s 149ms/step - loss: -30.4827 - accuracy: 0.2918\n",
            "Epoch 33/50\n",
            "181/181 [==============================] - 27s 150ms/step - loss: -34.8953 - accuracy: 0.3176\n",
            "Epoch 34/50\n",
            "181/181 [==============================] - 27s 150ms/step - loss: -36.0580 - accuracy: 0.3809\n",
            "Epoch 35/50\n",
            "181/181 [==============================] - 27s 150ms/step - loss: -38.5812 - accuracy: 0.2664\n",
            "Epoch 36/50\n",
            "181/181 [==============================] - 27s 149ms/step - loss: -42.6848 - accuracy: 0.3571\n",
            "Epoch 37/50\n",
            "181/181 [==============================] - 27s 149ms/step - loss: -40.5928 - accuracy: 0.3167\n",
            "Epoch 38/50\n",
            "181/181 [==============================] - 27s 149ms/step - loss: -43.0073 - accuracy: 0.3056\n",
            "Epoch 39/50\n",
            "181/181 [==============================] - 27s 149ms/step - loss: -43.0762 - accuracy: 0.2680\n",
            "Epoch 40/50\n",
            "181/181 [==============================] - 27s 148ms/step - loss: -46.7916 - accuracy: 0.2994\n",
            "Epoch 41/50\n",
            "181/181 [==============================] - 27s 148ms/step - loss: -44.6927 - accuracy: 0.2671\n",
            "Epoch 42/50\n",
            "181/181 [==============================] - 27s 148ms/step - loss: -49.8149 - accuracy: 0.2038\n",
            "Epoch 43/50\n",
            "181/181 [==============================] - 27s 148ms/step - loss: -45.7303 - accuracy: 0.1440\n",
            "Epoch 44/50\n",
            "181/181 [==============================] - 27s 148ms/step - loss: -55.8073 - accuracy: 0.5068\n",
            "Epoch 45/50\n",
            "181/181 [==============================] - 27s 148ms/step - loss: -60.9680 - accuracy: 0.4911\n",
            "Epoch 46/50\n",
            "181/181 [==============================] - 27s 148ms/step - loss: -63.5993 - accuracy: 0.3167\n",
            "Epoch 47/50\n",
            "181/181 [==============================] - 27s 148ms/step - loss: -73.0834 - accuracy: 0.4419\n",
            "Epoch 48/50\n",
            "181/181 [==============================] - 27s 148ms/step - loss: -82.3169 - accuracy: 0.3745\n",
            "Epoch 49/50\n",
            "181/181 [==============================] - 27s 148ms/step - loss: -83.1961 - accuracy: 0.4046\n",
            "Epoch 50/50\n",
            "181/181 [==============================] - 27s 149ms/step - loss: -80.0803 - accuracy: 0.1459\n"
          ]
        }
      ],
      "source": [
        "hostory=model.fit(train_x,y,epochs=50)"
      ]
    },
    {
      "cell_type": "code",
      "execution_count": 33,
      "id": "af1711e0-4a00-4880-a0bc-4b8693738677",
      "metadata": {
        "colab": {
          "base_uri": "https://localhost:8080/",
          "height": 570
        },
        "id": "af1711e0-4a00-4880-a0bc-4b8693738677",
        "outputId": "f277a440-d957-4014-f465-7ebeecd55c91"
      },
      "outputs": [
        {
          "output_type": "error",
          "ename": "KeyError",
          "evalue": "ignored",
          "traceback": [
            "\u001b[0;31m---------------------------------------------------------------------------\u001b[0m",
            "\u001b[0;31mKeyError\u001b[0m                                  Traceback (most recent call last)",
            "\u001b[0;32m<ipython-input-33-e6596d854f64>\u001b[0m in \u001b[0;36m<module>\u001b[0;34m()\u001b[0m\n\u001b[1;32m      6\u001b[0m   \u001b[0mplt\u001b[0m\u001b[0;34m.\u001b[0m\u001b[0mlegend\u001b[0m\u001b[0;34m(\u001b[0m\u001b[0;34m[\u001b[0m\u001b[0mstring\u001b[0m\u001b[0;34m,\u001b[0m \u001b[0;34m'val_'\u001b[0m\u001b[0;34m+\u001b[0m\u001b[0mstring\u001b[0m\u001b[0;34m]\u001b[0m\u001b[0;34m)\u001b[0m\u001b[0;34m\u001b[0m\u001b[0;34m\u001b[0m\u001b[0m\n\u001b[1;32m      7\u001b[0m   \u001b[0mplt\u001b[0m\u001b[0;34m.\u001b[0m\u001b[0mshow\u001b[0m\u001b[0;34m(\u001b[0m\u001b[0;34m)\u001b[0m\u001b[0;34m\u001b[0m\u001b[0;34m\u001b[0m\u001b[0m\n\u001b[0;32m----> 8\u001b[0;31m \u001b[0mplot_graphs\u001b[0m\u001b[0;34m(\u001b[0m\u001b[0mhostory\u001b[0m\u001b[0;34m,\u001b[0m \u001b[0;34m'accuracy'\u001b[0m\u001b[0;34m)\u001b[0m\u001b[0;34m\u001b[0m\u001b[0;34m\u001b[0m\u001b[0m\n\u001b[0m",
            "\u001b[0;32m<ipython-input-33-e6596d854f64>\u001b[0m in \u001b[0;36mplot_graphs\u001b[0;34m(history, string)\u001b[0m\n\u001b[1;32m      1\u001b[0m \u001b[0;32mdef\u001b[0m \u001b[0mplot_graphs\u001b[0m\u001b[0;34m(\u001b[0m\u001b[0mhistory\u001b[0m\u001b[0;34m,\u001b[0m \u001b[0mstring\u001b[0m\u001b[0;34m)\u001b[0m\u001b[0;34m:\u001b[0m\u001b[0;34m\u001b[0m\u001b[0;34m\u001b[0m\u001b[0m\n\u001b[1;32m      2\u001b[0m   \u001b[0mplt\u001b[0m\u001b[0;34m.\u001b[0m\u001b[0mplot\u001b[0m\u001b[0;34m(\u001b[0m\u001b[0mhistory\u001b[0m\u001b[0;34m.\u001b[0m\u001b[0mhistory\u001b[0m\u001b[0;34m[\u001b[0m\u001b[0mstring\u001b[0m\u001b[0;34m]\u001b[0m\u001b[0;34m)\u001b[0m\u001b[0;34m\u001b[0m\u001b[0;34m\u001b[0m\u001b[0m\n\u001b[0;32m----> 3\u001b[0;31m   \u001b[0mplt\u001b[0m\u001b[0;34m.\u001b[0m\u001b[0mplot\u001b[0m\u001b[0;34m(\u001b[0m\u001b[0mhistory\u001b[0m\u001b[0;34m.\u001b[0m\u001b[0mhistory\u001b[0m\u001b[0;34m[\u001b[0m\u001b[0;34m'val_'\u001b[0m\u001b[0;34m+\u001b[0m\u001b[0mstring\u001b[0m\u001b[0;34m]\u001b[0m\u001b[0;34m)\u001b[0m\u001b[0;34m\u001b[0m\u001b[0;34m\u001b[0m\u001b[0m\n\u001b[0m\u001b[1;32m      4\u001b[0m   \u001b[0mplt\u001b[0m\u001b[0;34m.\u001b[0m\u001b[0mxlabel\u001b[0m\u001b[0;34m(\u001b[0m\u001b[0;34m\"Epochs\"\u001b[0m\u001b[0;34m)\u001b[0m\u001b[0;34m\u001b[0m\u001b[0;34m\u001b[0m\u001b[0m\n\u001b[1;32m      5\u001b[0m   \u001b[0mplt\u001b[0m\u001b[0;34m.\u001b[0m\u001b[0mylabel\u001b[0m\u001b[0;34m(\u001b[0m\u001b[0mstring\u001b[0m\u001b[0;34m)\u001b[0m\u001b[0;34m\u001b[0m\u001b[0;34m\u001b[0m\u001b[0m\n",
            "\u001b[0;31mKeyError\u001b[0m: 'val_accuracy'"
          ]
        },
        {
          "output_type": "display_data",
          "data": {
            "image/png": "[encoded data removed]",
            "text/plain": [
              "<Figure size 432x288 with 1 Axes>"
            ]
          },
          "metadata": {
            "needs_background": "light"
          }
        }
      ],
      "source": [
        "def plot_graphs(history, string):\n",
        "  plt.plot(history.history[string])\n",
        "  plt.plot(history.history['val_'+string])\n",
        "  plt.xlabel(\"Epochs\")\n",
        "  plt.ylabel(string)\n",
        "  plt.legend([string, 'val_'+string])\n",
        "  plt.show()\n",
        "plot_graphs(hostory, 'accuracy')"
      ]
    },
    {
      "cell_type": "code",
      "execution_count": 34,
      "id": "1874d473-9696-4eca-b515-18efb378259e",
      "metadata": {
        "colab": {
          "base_uri": "https://localhost:8080/",
          "height": 536
        },
        "id": "1874d473-9696-4eca-b515-18efb378259e",
        "outputId": "480d0675-54ec-4f74-9389-68f4b1a75c8a"
      },
      "outputs": [
        {
          "output_type": "error",
          "ename": "KeyError",
          "evalue": "ignored",
          "traceback": [
            "\u001b[0;31m---------------------------------------------------------------------------\u001b[0m",
            "\u001b[0;31mKeyError\u001b[0m                                  Traceback (most recent call last)",
            "\u001b[0;32m<ipython-input-34-5585a6bbca15>\u001b[0m in \u001b[0;36m<module>\u001b[0;34m()\u001b[0m\n\u001b[0;32m----> 1\u001b[0;31m \u001b[0mplot_graphs\u001b[0m\u001b[0;34m(\u001b[0m\u001b[0mhostory\u001b[0m\u001b[0;34m,\u001b[0m \u001b[0;34m'loss'\u001b[0m\u001b[0;34m)\u001b[0m\u001b[0;34m\u001b[0m\u001b[0;34m\u001b[0m\u001b[0m\n\u001b[0m",
            "\u001b[0;32m<ipython-input-33-e6596d854f64>\u001b[0m in \u001b[0;36mplot_graphs\u001b[0;34m(history, string)\u001b[0m\n\u001b[1;32m      1\u001b[0m \u001b[0;32mdef\u001b[0m \u001b[0mplot_graphs\u001b[0m\u001b[0;34m(\u001b[0m\u001b[0mhistory\u001b[0m\u001b[0;34m,\u001b[0m \u001b[0mstring\u001b[0m\u001b[0;34m)\u001b[0m\u001b[0;34m:\u001b[0m\u001b[0;34m\u001b[0m\u001b[0;34m\u001b[0m\u001b[0m\n\u001b[1;32m      2\u001b[0m   \u001b[0mplt\u001b[0m\u001b[0;34m.\u001b[0m\u001b[0mplot\u001b[0m\u001b[0;34m(\u001b[0m\u001b[0mhistory\u001b[0m\u001b[0;34m.\u001b[0m\u001b[0mhistory\u001b[0m\u001b[0;34m[\u001b[0m\u001b[0mstring\u001b[0m\u001b[0;34m]\u001b[0m\u001b[0;34m)\u001b[0m\u001b[0;34m\u001b[0m\u001b[0;34m\u001b[0m\u001b[0m\n\u001b[0;32m----> 3\u001b[0;31m   \u001b[0mplt\u001b[0m\u001b[0;34m.\u001b[0m\u001b[0mplot\u001b[0m\u001b[0;34m(\u001b[0m\u001b[0mhistory\u001b[0m\u001b[0;34m.\u001b[0m\u001b[0mhistory\u001b[0m\u001b[0;34m[\u001b[0m\u001b[0;34m'val_'\u001b[0m\u001b[0;34m+\u001b[0m\u001b[0mstring\u001b[0m\u001b[0;34m]\u001b[0m\u001b[0;34m)\u001b[0m\u001b[0;34m\u001b[0m\u001b[0;34m\u001b[0m\u001b[0m\n\u001b[0m\u001b[1;32m      4\u001b[0m   \u001b[0mplt\u001b[0m\u001b[0;34m.\u001b[0m\u001b[0mxlabel\u001b[0m\u001b[0;34m(\u001b[0m\u001b[0;34m\"Epochs\"\u001b[0m\u001b[0;34m)\u001b[0m\u001b[0;34m\u001b[0m\u001b[0;34m\u001b[0m\u001b[0m\n\u001b[1;32m      5\u001b[0m   \u001b[0mplt\u001b[0m\u001b[0;34m.\u001b[0m\u001b[0mylabel\u001b[0m\u001b[0;34m(\u001b[0m\u001b[0mstring\u001b[0m\u001b[0;34m)\u001b[0m\u001b[0;34m\u001b[0m\u001b[0;34m\u001b[0m\u001b[0m\n",
            "\u001b[0;31mKeyError\u001b[0m: 'val_loss'"
          ]
        },
        {
          "output_type": "display_data",
          "data": {
            "image/png": "[encoded data removed]",
            "text/plain": [
              "<Figure size 432x288 with 1 Axes>"
            ]
          },
          "metadata": {
            "needs_background": "light"
          }
        }
      ],
      "source": [
        "plot_graphs(hostory, 'loss')"
      ]
    },
    {
      "cell_type": "code",
      "source": [
        "test=[\"this time market seems to be good\",\n",
        "      \"i cannot say anything this time it may be good may be bad\",\n",
        "      \"my money died its lost\",\n",
        "      \"i became billionaire yeah\",\n",
        "      \"i got profit\",\n",
        "      ]\n",
        "\n",
        "\n",
        "\n",
        "\n",
        "\n"
      ],
      "metadata": {
        "id": "QekKwTO7X9qn"
      },
      "id": "QekKwTO7X9qn",
      "execution_count": 36,
      "outputs": []
    },
    {
      "cell_type": "code",
      "source": [
        "tokenizer1 = Tokenizer(num_words = 50, oov_token=\"<OOV>\")\n",
        "tokenizer1.fit_on_texts(test)"
      ],
      "metadata": {
        "id": "Gr3PP7lpZURJ"
      },
      "id": "Gr3PP7lpZURJ",
      "execution_count": 37,
      "outputs": []
    },
    {
      "cell_type": "code",
      "source": [
        "test_x = pad_sequences(tokenizer1.texts_to_sequences(test),padding='pre', maxlen=50)"
      ],
      "metadata": {
        "id": "V610BAo5ZrgG"
      },
      "id": "V610BAo5ZrgG",
      "execution_count": 38,
      "outputs": []
    },
    {
      "cell_type": "code",
      "source": [
        "print(test_x)"
      ],
      "metadata": {
        "colab": {
          "base_uri": "https://localhost:8080/"
        },
        "id": "_7fuBHtTYGnH",
        "outputId": "16dac62d-0956-4c78-a3d6-9d63e2ea5115"
      },
      "id": "_7fuBHtTYGnH",
      "execution_count": 39,
      "outputs": [
        {
          "output_type": "stream",
          "name": "stdout",
          "text": [
            "[[ 0  0  0  0  0  0  0  0  0  0  0  0  0  0  0  0  0  0  0  0  0  0  0  0\n",
            "   0  0  0  0  0  0  0  0  0  0  0  0  0  0  0  0  0  0  0  4  5  8  9 10\n",
            "   2  6]\n",
            " [ 0  0  0  0  0  0  0  0  0  0  0  0  0  0  0  0  0  0  0  0  0  0  0  0\n",
            "   0  0  0  0  0  0  0  0  0  0  0  0  0  3 11 12 13  4  5 14  7  2  6  7\n",
            "   2 15]\n",
            " [ 0  0  0  0  0  0  0  0  0  0  0  0  0  0  0  0  0  0  0  0  0  0  0  0\n",
            "   0  0  0  0  0  0  0  0  0  0  0  0  0  0  0  0  0  0  0  0  0 16 17 18\n",
            "  19 20]\n",
            " [ 0  0  0  0  0  0  0  0  0  0  0  0  0  0  0  0  0  0  0  0  0  0  0  0\n",
            "   0  0  0  0  0  0  0  0  0  0  0  0  0  0  0  0  0  0  0  0  0  0  3 21\n",
            "  22 23]\n",
            " [ 0  0  0  0  0  0  0  0  0  0  0  0  0  0  0  0  0  0  0  0  0  0  0  0\n",
            "   0  0  0  0  0  0  0  0  0  0  0  0  0  0  0  0  0  0  0  0  0  0  0  3\n",
            "  24 25]]\n"
          ]
        }
      ]
    },
    {
      "cell_type": "code",
      "source": [
        "result=model.predict(test_x)"
      ],
      "metadata": {
        "id": "3X8gzHgTZ8f-"
      },
      "id": "3X8gzHgTZ8f-",
      "execution_count": 40,
      "outputs": []
    },
    {
      "cell_type": "code",
      "source": [
        "print(result)"
      ],
      "metadata": {
        "colab": {
          "base_uri": "https://localhost:8080/"
        },
        "id": "0t8cXIIgaC5_",
        "outputId": "0fbd32f1-1019-4af7-9b7c-424c0ad75922"
      },
      "id": "0t8cXIIgaC5_",
      "execution_count": 41,
      "outputs": [
        {
          "output_type": "stream",
          "name": "stdout",
          "text": [
            "[[0.5114769 ]\n",
            " [0.        ]\n",
            " [0.        ]\n",
            " [0.48822108]\n",
            " [0.50391066]]\n"
          ]
        }
      ]
    },
    {
      "cell_type": "code",
      "source": [
        "final=[]\n",
        "for i in range(len(result)):\n",
        "    if result[i] >=0.5:\n",
        "        final.append(1)\n",
        "    else:\n",
        "        final.append(-1)"
      ],
      "metadata": {
        "id": "LTvGXaWBaPEn"
      },
      "id": "LTvGXaWBaPEn",
      "execution_count": 43,
      "outputs": []
    },
    {
      "cell_type": "code",
      "source": [
        "final"
      ],
      "metadata": {
        "colab": {
          "base_uri": "https://localhost:8080/"
        },
        "id": "bYWU3DEPawMt",
        "outputId": "6d426dd2-8210-416c-8f1e-68d3dc3270c4"
      },
      "id": "bYWU3DEPawMt",
      "execution_count": 44,
      "outputs": [
        {
          "output_type": "execute_result",
          "data": {
            "text/plain": [
              "[1, -1, -1, -1, 1]"
            ]
          },
          "metadata": {},
          "execution_count": 44
        }
      ]
    },
    {
      "cell_type": "code",
      "source": [
        "import pickle\n",
        "with open('model_pkl', 'wb') as files:\n",
        "    pickle.dump(model, files)"
      ],
      "metadata": {
        "colab": {
          "base_uri": "https://localhost:8080/"
        },
        "id": "ddHqM4x5a-90",
        "outputId": "51836113-03db-4236-8e6e-97797b5f0b54"
      },
      "id": "ddHqM4x5a-90",
      "execution_count": 45,
      "outputs": [
        {
          "output_type": "stream",
          "name": "stderr",
          "text": [
            "WARNING:absl:Found untraced functions such as gru_cell_1_layer_call_fn, gru_cell_1_layer_call_and_return_conditional_losses, gru_cell_2_layer_call_fn, gru_cell_2_layer_call_and_return_conditional_losses, gru_cell_4_layer_call_fn while saving (showing 5 of 50). These functions will not be directly callable after loading.\n"
          ]
        },
        {
          "output_type": "stream",
          "name": "stdout",
          "text": [
            "INFO:tensorflow:Assets written to: ram://663fec1a-52b8-4fb9-a702-7bc6c98cf42f/assets\n"
          ]
        },
        {
          "output_type": "stream",
          "name": "stderr",
          "text": [
            "INFO:tensorflow:Assets written to: ram://663fec1a-52b8-4fb9-a702-7bc6c98cf42f/assets\n",
            "WARNING:absl:<keras.layers.recurrent.GRUCell object at 0x7f92de4b8790> has the same name 'GRUCell' as a built-in Keras object. Consider renaming <class 'keras.layers.recurrent.GRUCell'> to avoid naming conflicts when loading with `tf.keras.models.load_model`. If renaming is not possible, pass the object in the `custom_objects` parameter of the load function.\n",
            "WARNING:absl:<keras.layers.recurrent.GRUCell object at 0x7f92de40f050> has the same name 'GRUCell' as a built-in Keras object. Consider renaming <class 'keras.layers.recurrent.GRUCell'> to avoid naming conflicts when loading with `tf.keras.models.load_model`. If renaming is not possible, pass the object in the `custom_objects` parameter of the load function.\n",
            "WARNING:absl:<keras.layers.recurrent.GRUCell object at 0x7f92de42c650> has the same name 'GRUCell' as a built-in Keras object. Consider renaming <class 'keras.layers.recurrent.GRUCell'> to avoid naming conflicts when loading with `tf.keras.models.load_model`. If renaming is not possible, pass the object in the `custom_objects` parameter of the load function.\n",
            "WARNING:absl:<keras.layers.recurrent.GRUCell object at 0x7f92de701090> has the same name 'GRUCell' as a built-in Keras object. Consider renaming <class 'keras.layers.recurrent.GRUCell'> to avoid naming conflicts when loading with `tf.keras.models.load_model`. If renaming is not possible, pass the object in the `custom_objects` parameter of the load function.\n",
            "WARNING:absl:<keras.layers.recurrent.GRUCell object at 0x7f92de6f8610> has the same name 'GRUCell' as a built-in Keras object. Consider renaming <class 'keras.layers.recurrent.GRUCell'> to avoid naming conflicts when loading with `tf.keras.models.load_model`. If renaming is not possible, pass the object in the `custom_objects` parameter of the load function.\n",
            "WARNING:absl:<keras.layers.recurrent.GRUCell object at 0x7f92de6f8f90> has the same name 'GRUCell' as a built-in Keras object. Consider renaming <class 'keras.layers.recurrent.GRUCell'> to avoid naming conflicts when loading with `tf.keras.models.load_model`. If renaming is not possible, pass the object in the `custom_objects` parameter of the load function.\n",
            "WARNING:absl:<keras.layers.recurrent.GRUCell object at 0x7f92de6f74d0> has the same name 'GRUCell' as a built-in Keras object. Consider renaming <class 'keras.layers.recurrent.GRUCell'> to avoid naming conflicts when loading with `tf.keras.models.load_model`. If renaming is not possible, pass the object in the `custom_objects` parameter of the load function.\n",
            "WARNING:absl:<keras.layers.recurrent.GRUCell object at 0x7f92de6f7d90> has the same name 'GRUCell' as a built-in Keras object. Consider renaming <class 'keras.layers.recurrent.GRUCell'> to avoid naming conflicts when loading with `tf.keras.models.load_model`. If renaming is not possible, pass the object in the `custom_objects` parameter of the load function.\n",
            "WARNING:absl:<keras.layers.recurrent.GRUCell object at 0x7f92de70f350> has the same name 'GRUCell' as a built-in Keras object. Consider renaming <class 'keras.layers.recurrent.GRUCell'> to avoid naming conflicts when loading with `tf.keras.models.load_model`. If renaming is not possible, pass the object in the `custom_objects` parameter of the load function.\n",
            "WARNING:absl:<keras.layers.recurrent.GRUCell object at 0x7f92de70fc50> has the same name 'GRUCell' as a built-in Keras object. Consider renaming <class 'keras.layers.recurrent.GRUCell'> to avoid naming conflicts when loading with `tf.keras.models.load_model`. If renaming is not possible, pass the object in the `custom_objects` parameter of the load function.\n"
          ]
        }
      ]
    }
  ],
  "metadata": {
    "kernelspec": {
      "display_name": "Python 3 (ipykernel)",
      "language": "python",
      "name": "python3"
    },
    "language_info": {
      "codemirror_mode": {
        "name": "ipython",
        "version": 3
      },
      "file_extension": ".py",
      "mimetype": "text/x-python",
      "name": "python",
      "nbconvert_exporter": "python",
      "pygments_lexer": "ipython3",
      "version": "3.9.2"
    },
    "colab": {
      "name": "Untitled3-1.ipynb",
      "provenance": []
    },
    "accelerator": "GPU"
  },
  "nbformat": 4,
  "nbformat_minor": 5
}