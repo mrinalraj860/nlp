{
  "cells": [
    {
      "cell_type": "code",
      "execution_count": 4,
      "id": "5af4baad-cb39-4591-bbf4-364cde4a073c",
      "metadata": {
        "id": "5af4baad-cb39-4591-bbf4-364cde4a073c"
      },
      "outputs": [],
      "source": [
        "import pandas as pd"
      ]
    },
    {
      "cell_type": "code",
      "execution_count": 5,
      "id": "d5c09dee-abf6-43e8-8f49-cb02aa042590",
      "metadata": {
        "id": "d5c09dee-abf6-43e8-8f49-cb02aa042590"
      },
      "outputs": [],
      "source": [
        "dataset=pd.read_csv('/stock_data.csv')"
      ]
    },
    {
      "cell_type": "markdown",
      "source": [
        "# New section"
      ],
      "metadata": {
        "id": "xPdEHInxfaUg"
      },
      "id": "xPdEHInxfaUg"
    },
    {
      "cell_type": "markdown",
      "source": [
        "# New section"
      ],
      "metadata": {
        "id": "uo0sOTbFfawG"
      },
      "id": "uo0sOTbFfawG"
    },
    {
      "cell_type": "code",
      "execution_count": 6,
      "id": "d4a0e6a4-2f1c-4e88-8d37-11502833271e",
      "metadata": {
        "id": "d4a0e6a4-2f1c-4e88-8d37-11502833271e",
        "outputId": "1bb718b4-0d69-4729-88dd-64e9eba29786",
        "colab": {
          "base_uri": "https://localhost:8080/",
          "height": 206
        }
      },
      "outputs": [
        {
          "output_type": "execute_result",
          "data": {
            "text/html": [
              "\n",
              "  <div id=\"df-ec2be565-39b5-4e36-b3a9-990e9b7639b9\">\n",
              "    <div class=\"colab-df-container\">\n",
              "      <div>\n",
              "<style scoped>\n",
              "    .dataframe tbody tr th:only-of-type {\n",
              "        vertical-align: middle;\n",
              "    }\n",
              "\n",
              "    .dataframe tbody tr th {\n",
              "        vertical-align: top;\n",
              "    }\n",
              "\n",
              "    .dataframe thead th {\n",
              "        text-align: right;\n",
              "    }\n",
              "</style>\n",
              "<table border=\"1\" class=\"dataframe\">\n",
              "  <thead>\n",
              "    <tr style=\"text-align: right;\">\n",
              "      <th></th>\n",
              "      <th>Text</th>\n",
              "      <th>Sentiment</th>\n",
              "    </tr>\n",
              "  </thead>\n",
              "  <tbody>\n",
              "    <tr>\n",
              "      <th>0</th>\n",
              "      <td>Kickers on my watchlist XIDE TIT SOQ PNK CPW B...</td>\n",
              "      <td>1</td>\n",
              "    </tr>\n",
              "    <tr>\n",
              "      <th>1</th>\n",
              "      <td>user: AAP MOVIE. 55% return for the FEA/GEED i...</td>\n",
              "      <td>1</td>\n",
              "    </tr>\n",
              "    <tr>\n",
              "      <th>2</th>\n",
              "      <td>user I'd be afraid to short AMZN - they are lo...</td>\n",
              "      <td>1</td>\n",
              "    </tr>\n",
              "    <tr>\n",
              "      <th>3</th>\n",
              "      <td>MNTA Over 12.00</td>\n",
              "      <td>1</td>\n",
              "    </tr>\n",
              "    <tr>\n",
              "      <th>4</th>\n",
              "      <td>OI  Over 21.37</td>\n",
              "      <td>1</td>\n",
              "    </tr>\n",
              "  </tbody>\n",
              "</table>\n",
              "</div>\n",
              "      <button class=\"colab-df-convert\" onclick=\"convertToInteractive('df-ec2be565-39b5-4e36-b3a9-990e9b7639b9')\"\n",
              "              title=\"Convert this dataframe to an interactive table.\"\n",
              "              style=\"display:none;\">\n",
              "        \n",
              "  <svg xmlns=\"http://www.w3.org/2000/svg\" height=\"24px\"viewBox=\"0 0 24 24\"\n",
              "       width=\"24px\">\n",
              "    <path d=\"M0 0h24v24H0V0z\" fill=\"none\"/>\n",
              "    <path d=\"M18.56 5.44l.94 2.06.94-2.06 2.06-.94-2.06-.94-.94-2.06-.94 2.06-2.06.94zm-11 1L8.5 8.5l.94-2.06 2.06-.94-2.06-.94L8.5 2.5l-.94 2.06-2.06.94zm10 10l.94 2.06.94-2.06 2.06-.94-2.06-.94-.94-2.06-.94 2.06-2.06.94z\"/><path d=\"M17.41 7.96l-1.37-1.37c-.4-.4-.92-.59-1.43-.59-.52 0-1.04.2-1.43.59L10.3 9.45l-7.72 7.72c-.78.78-.78 2.05 0 2.83L4 21.41c.39.39.9.59 1.41.59.51 0 1.02-.2 1.41-.59l7.78-7.78 2.81-2.81c.8-.78.8-2.07 0-2.86zM5.41 20L4 18.59l7.72-7.72 1.47 1.35L5.41 20z\"/>\n",
              "  </svg>\n",
              "      </button>\n",
              "      \n",
              "  <style>\n",
              "    .colab-df-container {\n",
              "      display:flex;\n",
              "      flex-wrap:wrap;\n",
              "      gap: 12px;\n",
              "    }\n",
              "\n",
              "    .colab-df-convert {\n",
              "      background-color: #E8F0FE;\n",
              "      border: none;\n",
              "      border-radius: 50%;\n",
              "      cursor: pointer;\n",
              "      display: none;\n",
              "      fill: #1967D2;\n",
              "      height: 32px;\n",
              "      padding: 0 0 0 0;\n",
              "      width: 32px;\n",
              "    }\n",
              "\n",
              "    .colab-df-convert:hover {\n",
              "      background-color: #E2EBFA;\n",
              "      box-shadow: 0px 1px 2px rgba(60, 64, 67, 0.3), 0px 1px 3px 1px rgba(60, 64, 67, 0.15);\n",
              "      fill: #174EA6;\n",
              "    }\n",
              "\n",
              "    [theme=dark] .colab-df-convert {\n",
              "      background-color: #3B4455;\n",
              "      fill: #D2E3FC;\n",
              "    }\n",
              "\n",
              "    [theme=dark] .colab-df-convert:hover {\n",
              "      background-color: #434B5C;\n",
              "      box-shadow: 0px 1px 3px 1px rgba(0, 0, 0, 0.15);\n",
              "      filter: drop-shadow(0px 1px 2px rgba(0, 0, 0, 0.3));\n",
              "      fill: #FFFFFF;\n",
              "    }\n",
              "  </style>\n",
              "\n",
              "      <script>\n",
              "        const buttonEl =\n",
              "          document.querySelector('#df-ec2be565-39b5-4e36-b3a9-990e9b7639b9 button.colab-df-convert');\n",
              "        buttonEl.style.display =\n",
              "          google.colab.kernel.accessAllowed ? 'block' : 'none';\n",
              "\n",
              "        async function convertToInteractive(key) {\n",
              "          const element = document.querySelector('#df-ec2be565-39b5-4e36-b3a9-990e9b7639b9');\n",
              "          const dataTable =\n",
              "            await google.colab.kernel.invokeFunction('convertToInteractive',\n",
              "                                                     [key], {});\n",
              "          if (!dataTable) return;\n",
              "\n",
              "          const docLinkHtml = 'Like what you see? Visit the ' +\n",
              "            '<a target=\"_blank\" href=https://colab.research.google.com/notebooks/data_table.ipynb>data table notebook</a>'\n",
              "            + ' to learn more about interactive tables.';\n",
              "          element.innerHTML = '';\n",
              "          dataTable['output_type'] = 'display_data';\n",
              "          await google.colab.output.renderOutput(dataTable, element);\n",
              "          const docLink = document.createElement('div');\n",
              "          docLink.innerHTML = docLinkHtml;\n",
              "          element.appendChild(docLink);\n",
              "        }\n",
              "      </script>\n",
              "    </div>\n",
              "  </div>\n",
              "  "
            ],
            "text/plain": [
              "                                                Text  Sentiment\n",
              "0  Kickers on my watchlist XIDE TIT SOQ PNK CPW B...          1\n",
              "1  user: AAP MOVIE. 55% return for the FEA/GEED i...          1\n",
              "2  user I'd be afraid to short AMZN - they are lo...          1\n",
              "3                                  MNTA Over 12.00            1\n",
              "4                                   OI  Over 21.37            1"
            ]
          },
          "metadata": {},
          "execution_count": 6
        }
      ],
      "source": [
        "dataset.head()"
      ]
    },
    {
      "cell_type": "code",
      "execution_count": 7,
      "id": "b19247a6-f281-4382-b1dd-d7c20e20a1ae",
      "metadata": {
        "id": "b19247a6-f281-4382-b1dd-d7c20e20a1ae",
        "outputId": "977da960-dca4-4c0c-d4b8-31a267d61074",
        "colab": {
          "base_uri": "https://localhost:8080/"
        }
      },
      "outputs": [
        {
          "output_type": "execute_result",
          "data": {
            "text/plain": [
              "(5791, 2)"
            ]
          },
          "metadata": {},
          "execution_count": 7
        }
      ],
      "source": [
        "dataset.shape"
      ]
    },
    {
      "cell_type": "code",
      "execution_count": 8,
      "id": "3e3b4f9b-f930-4cde-b329-295288621a28",
      "metadata": {
        "id": "3e3b4f9b-f930-4cde-b329-295288621a28",
        "outputId": "62d7e8f7-06af-4f52-f5c2-34227bee0e73",
        "colab": {
          "base_uri": "https://localhost:8080/",
          "height": 206
        }
      },
      "outputs": [
        {
          "output_type": "execute_result",
          "data": {
            "text/html": [
              "\n",
              "  <div id=\"df-fb58642e-2c29-454e-9caa-7cd59963eabd\">\n",
              "    <div class=\"colab-df-container\">\n",
              "      <div>\n",
              "<style scoped>\n",
              "    .dataframe tbody tr th:only-of-type {\n",
              "        vertical-align: middle;\n",
              "    }\n",
              "\n",
              "    .dataframe tbody tr th {\n",
              "        vertical-align: top;\n",
              "    }\n",
              "\n",
              "    .dataframe thead th {\n",
              "        text-align: right;\n",
              "    }\n",
              "</style>\n",
              "<table border=\"1\" class=\"dataframe\">\n",
              "  <thead>\n",
              "    <tr style=\"text-align: right;\">\n",
              "      <th></th>\n",
              "      <th>Text</th>\n",
              "      <th>Sentiment</th>\n",
              "    </tr>\n",
              "  </thead>\n",
              "  <tbody>\n",
              "    <tr>\n",
              "      <th>5786</th>\n",
              "      <td>Industry body CII said #discoms are likely to ...</td>\n",
              "      <td>-1</td>\n",
              "    </tr>\n",
              "    <tr>\n",
              "      <th>5787</th>\n",
              "      <td>#Gold prices slip below Rs 46,000 as #investor...</td>\n",
              "      <td>-1</td>\n",
              "    </tr>\n",
              "    <tr>\n",
              "      <th>5788</th>\n",
              "      <td>Workers at Bajaj Auto have agreed to a 10% wag...</td>\n",
              "      <td>1</td>\n",
              "    </tr>\n",
              "    <tr>\n",
              "      <th>5789</th>\n",
              "      <td>#Sharemarket LIVE: Sensex off day’s high, up 6...</td>\n",
              "      <td>1</td>\n",
              "    </tr>\n",
              "    <tr>\n",
              "      <th>5790</th>\n",
              "      <td>#Sensex, #Nifty climb off day's highs, still u...</td>\n",
              "      <td>1</td>\n",
              "    </tr>\n",
              "  </tbody>\n",
              "</table>\n",
              "</div>\n",
              "      <button class=\"colab-df-convert\" onclick=\"convertToInteractive('df-fb58642e-2c29-454e-9caa-7cd59963eabd')\"\n",
              "              title=\"Convert this dataframe to an interactive table.\"\n",
              "              style=\"display:none;\">\n",
              "        \n",
              "  <svg xmlns=\"http://www.w3.org/2000/svg\" height=\"24px\"viewBox=\"0 0 24 24\"\n",
              "       width=\"24px\">\n",
              "    <path d=\"M0 0h24v24H0V0z\" fill=\"none\"/>\n",
              "    <path d=\"M18.56 5.44l.94 2.06.94-2.06 2.06-.94-2.06-.94-.94-2.06-.94 2.06-2.06.94zm-11 1L8.5 8.5l.94-2.06 2.06-.94-2.06-.94L8.5 2.5l-.94 2.06-2.06.94zm10 10l.94 2.06.94-2.06 2.06-.94-2.06-.94-.94-2.06-.94 2.06-2.06.94z\"/><path d=\"M17.41 7.96l-1.37-1.37c-.4-.4-.92-.59-1.43-.59-.52 0-1.04.2-1.43.59L10.3 9.45l-7.72 7.72c-.78.78-.78 2.05 0 2.83L4 21.41c.39.39.9.59 1.41.59.51 0 1.02-.2 1.41-.59l7.78-7.78 2.81-2.81c.8-.78.8-2.07 0-2.86zM5.41 20L4 18.59l7.72-7.72 1.47 1.35L5.41 20z\"/>\n",
              "  </svg>\n",
              "      </button>\n",
              "      \n",
              "  <style>\n",
              "    .colab-df-container {\n",
              "      display:flex;\n",
              "      flex-wrap:wrap;\n",
              "      gap: 12px;\n",
              "    }\n",
              "\n",
              "    .colab-df-convert {\n",
              "      background-color: #E8F0FE;\n",
              "      border: none;\n",
              "      border-radius: 50%;\n",
              "      cursor: pointer;\n",
              "      display: none;\n",
              "      fill: #1967D2;\n",
              "      height: 32px;\n",
              "      padding: 0 0 0 0;\n",
              "      width: 32px;\n",
              "    }\n",
              "\n",
              "    .colab-df-convert:hover {\n",
              "      background-color: #E2EBFA;\n",
              "      box-shadow: 0px 1px 2px rgba(60, 64, 67, 0.3), 0px 1px 3px 1px rgba(60, 64, 67, 0.15);\n",
              "      fill: #174EA6;\n",
              "    }\n",
              "\n",
              "    [theme=dark] .colab-df-convert {\n",
              "      background-color: #3B4455;\n",
              "      fill: #D2E3FC;\n",
              "    }\n",
              "\n",
              "    [theme=dark] .colab-df-convert:hover {\n",
              "      background-color: #434B5C;\n",
              "      box-shadow: 0px 1px 3px 1px rgba(0, 0, 0, 0.15);\n",
              "      filter: drop-shadow(0px 1px 2px rgba(0, 0, 0, 0.3));\n",
              "      fill: #FFFFFF;\n",
              "    }\n",
              "  </style>\n",
              "\n",
              "      <script>\n",
              "        const buttonEl =\n",
              "          document.querySelector('#df-fb58642e-2c29-454e-9caa-7cd59963eabd button.colab-df-convert');\n",
              "        buttonEl.style.display =\n",
              "          google.colab.kernel.accessAllowed ? 'block' : 'none';\n",
              "\n",
              "        async function convertToInteractive(key) {\n",
              "          const element = document.querySelector('#df-fb58642e-2c29-454e-9caa-7cd59963eabd');\n",
              "          const dataTable =\n",
              "            await google.colab.kernel.invokeFunction('convertToInteractive',\n",
              "                                                     [key], {});\n",
              "          if (!dataTable) return;\n",
              "\n",
              "          const docLinkHtml = 'Like what you see? Visit the ' +\n",
              "            '<a target=\"_blank\" href=https://colab.research.google.com/notebooks/data_table.ipynb>data table notebook</a>'\n",
              "            + ' to learn more about interactive tables.';\n",
              "          element.innerHTML = '';\n",
              "          dataTable['output_type'] = 'display_data';\n",
              "          await google.colab.output.renderOutput(dataTable, element);\n",
              "          const docLink = document.createElement('div');\n",
              "          docLink.innerHTML = docLinkHtml;\n",
              "          element.appendChild(docLink);\n",
              "        }\n",
              "      </script>\n",
              "    </div>\n",
              "  </div>\n",
              "  "
            ],
            "text/plain": [
              "                                                   Text  Sentiment\n",
              "5786  Industry body CII said #discoms are likely to ...         -1\n",
              "5787  #Gold prices slip below Rs 46,000 as #investor...         -1\n",
              "5788  Workers at Bajaj Auto have agreed to a 10% wag...          1\n",
              "5789  #Sharemarket LIVE: Sensex off day’s high, up 6...          1\n",
              "5790  #Sensex, #Nifty climb off day's highs, still u...          1"
            ]
          },
          "metadata": {},
          "execution_count": 8
        }
      ],
      "source": [
        "dataset.tail()"
      ]
    },
    {
      "cell_type": "code",
      "execution_count": 9,
      "id": "e56f73a3-e6fc-4754-b442-11ca34557a82",
      "metadata": {
        "id": "e56f73a3-e6fc-4754-b442-11ca34557a82",
        "outputId": "0145b0d4-3297-4889-fec2-468ef281378f",
        "colab": {
          "base_uri": "https://localhost:8080/"
        }
      },
      "outputs": [
        {
          "output_type": "stream",
          "name": "stdout",
          "text": [
            "2106\n"
          ]
        }
      ],
      "source": [
        "count=0\n",
        "for value in dataset['Sentiment']:\n",
        "    if value==-1:\n",
        "        count=count+1\n",
        "print(count)"
      ]
    },
    {
      "cell_type": "code",
      "execution_count": 10,
      "id": "ebe91593-3201-4526-9948-9f601cd09a1d",
      "metadata": {
        "id": "ebe91593-3201-4526-9948-9f601cd09a1d",
        "outputId": "b894a6cf-0b8a-456a-ba00-dd8b2f8c5af9",
        "colab": {
          "base_uri": "https://localhost:8080/"
        }
      },
      "outputs": [
        {
          "output_type": "stream",
          "name": "stdout",
          "text": [
            "3685\n"
          ]
        }
      ],
      "source": [
        "count=0\n",
        "for value in dataset['Sentiment']:\n",
        "    if value==1:\n",
        "        count=count+1\n",
        "print(count)"
      ]
    },
    {
      "cell_type": "code",
      "execution_count": 11,
      "id": "102334c5-b128-4ddd-894b-367f6947f270",
      "metadata": {
        "id": "102334c5-b128-4ddd-894b-367f6947f270"
      },
      "outputs": [],
      "source": [
        "import numpy as np\n",
        "import matplotlib.pyplot as plt\n"
      ]
    },
    {
      "cell_type": "code",
      "execution_count": 12,
      "id": "8ed79a60-6078-4d71-a317-4095f503e266",
      "metadata": {
        "id": "8ed79a60-6078-4d71-a317-4095f503e266"
      },
      "outputs": [],
      "source": [
        "import tensorflow as tf\n",
        "from tensorflow.keras.preprocessing.text import Tokenizer\n",
        "from tensorflow.keras.preprocessing.sequence import pad_sequences"
      ]
    },
    {
      "cell_type": "code",
      "execution_count": 13,
      "id": "dbac3371-ba10-41d5-98dd-aaf7a8272640",
      "metadata": {
        "id": "dbac3371-ba10-41d5-98dd-aaf7a8272640"
      },
      "outputs": [],
      "source": [
        "tokenizer = Tokenizer(num_words = 100, oov_token=\"<OOV>\")"
      ]
    },
    {
      "cell_type": "code",
      "execution_count": 14,
      "id": "a5ba5232-2a20-4a79-b9f8-d0b9ce053a6f",
      "metadata": {
        "id": "a5ba5232-2a20-4a79-b9f8-d0b9ce053a6f"
      },
      "outputs": [],
      "source": [
        "tokenizer.fit_on_texts(dataset['Text'])"
      ]
    },
    {
      "cell_type": "code",
      "execution_count": 15,
      "id": "9b2a4c6f-3c54-48ec-b577-4db276057a5c",
      "metadata": {
        "id": "9b2a4c6f-3c54-48ec-b577-4db276057a5c",
        "outputId": "5d9df449-11ae-4ac2-f5d1-51abb270dc81",
        "colab": {
          "base_uri": "https://localhost:8080/"
        }
      },
      "outputs": [
        {
          "output_type": "stream",
          "name": "stdout",
          "text": [
            "[[ 0  0  0 ... 80  1  1]\n",
            " [ 0  0  0 ...  2  1  1]\n",
            " [ 0  0  0 ... 31  4  1]\n",
            " ...\n",
            " [ 0  0  0 ... 12 13  1]\n",
            " [ 0  0  0 ... 12 13  1]\n",
            " [ 0  0  0 ... 12 13  1]]\n"
          ]
        }
      ],
      "source": [
        "train_x = pad_sequences(tokenizer.texts_to_sequences(dataset['Text']),padding='pre', maxlen=50)\n",
        "print(train_x)"
      ]
    },
    {
      "cell_type": "code",
      "execution_count": 16,
      "id": "51f73c1a-f6db-4af2-aeea-13cf3e9fff02",
      "metadata": {
        "id": "51f73c1a-f6db-4af2-aeea-13cf3e9fff02"
      },
      "outputs": [],
      "source": [
        "y=dataset['Sentiment']"
      ]
    },
    {
      "cell_type": "code",
      "execution_count": 17,
      "id": "bf6b048c-a04a-4443-b75f-183413f6181a",
      "metadata": {
        "id": "bf6b048c-a04a-4443-b75f-183413f6181a",
        "outputId": "51399188-33b5-40b8-d80c-ae633781aaeb",
        "colab": {
          "base_uri": "https://localhost:8080/"
        }
      },
      "outputs": [
        {
          "output_type": "stream",
          "name": "stdout",
          "text": [
            "0       1\n",
            "1       1\n",
            "2       1\n",
            "3       1\n",
            "4       1\n",
            "       ..\n",
            "5786   -1\n",
            "5787   -1\n",
            "5788    1\n",
            "5789    1\n",
            "5790    1\n",
            "Name: Sentiment, Length: 5791, dtype: int64\n"
          ]
        }
      ],
      "source": [
        "print(y)"
      ]
    },
    {
      "cell_type": "code",
      "execution_count": 22,
      "id": "6a0b038c-5ea8-41f8-a142-72745c0a0ea9",
      "metadata": {
        "id": "6a0b038c-5ea8-41f8-a142-72745c0a0ea9"
      },
      "outputs": [],
      "source": [
        "model = tf.keras.Sequential([\n",
        "    tf.keras.layers.Embedding(50000, 1000, input_length=50),\n",
        "    tf.keras.layers.Bidirectional(tf.keras.layers.LSTM(128,return_sequences=True)),\n",
        "    tf.keras.layers.Bidirectional(tf.keras.layers.LSTM(64,return_sequences=False)),\n",
        "    tf.keras.layers.Dense(32, activation='relu'),\n",
        "    tf.keras.layers.Dense(16, activation='relu'),\n",
        "    tf.keras.layers.Dense(1, activation='sigmoid')\n",
        "])\n",
        "model.compile(loss='binary_crossentropy',optimizer='adam',metrics=['accuracy'])"
      ]
    },
    {
      "cell_type": "code",
      "execution_count": 23,
      "id": "7e0a60a7-7629-4515-aaab-949ec5a7c3d9",
      "metadata": {
        "id": "7e0a60a7-7629-4515-aaab-949ec5a7c3d9",
        "outputId": "a8992354-758a-4894-8a67-49c35201c29f",
        "colab": {
          "base_uri": "https://localhost:8080/"
        }
      },
      "outputs": [
        {
          "output_type": "stream",
          "name": "stdout",
          "text": [
            "Epoch 1/50\n",
            "181/181 [==============================] - 12s 41ms/step - loss: 0.5584 - accuracy: 0.0699\n",
            "Epoch 2/50\n",
            "181/181 [==============================] - 7s 41ms/step - loss: -0.0367 - accuracy: 0.2083\n",
            "Epoch 3/50\n",
            "181/181 [==============================] - 8s 41ms/step - loss: -11.4788 - accuracy: 0.3234\n",
            "Epoch 4/50\n",
            "181/181 [==============================] - 7s 41ms/step - loss: -66.3960 - accuracy: 0.3240\n",
            "Epoch 5/50\n",
            "181/181 [==============================] - 8s 42ms/step - loss: -268.6889 - accuracy: 0.2588\n",
            "Epoch 6/50\n",
            "181/181 [==============================] - 7s 41ms/step - loss: -584.3461 - accuracy: 0.2861\n",
            "Epoch 7/50\n",
            "181/181 [==============================] - 7s 41ms/step - loss: -1203.7163 - accuracy: 0.2963\n",
            "Epoch 8/50\n",
            "181/181 [==============================] - 7s 41ms/step - loss: -2267.6978 - accuracy: 0.2810\n",
            "Epoch 9/50\n",
            "181/181 [==============================] - 7s 41ms/step - loss: -3630.3442 - accuracy: 0.1989\n",
            "Epoch 10/50\n",
            "181/181 [==============================] - 8s 43ms/step - loss: -6061.5625 - accuracy: 0.2462\n",
            "Epoch 11/50\n",
            "181/181 [==============================] - 7s 41ms/step - loss: -8751.5059 - accuracy: 0.3353\n",
            "Epoch 12/50\n",
            "181/181 [==============================] - 7s 41ms/step - loss: -12709.2002 - accuracy: 0.3562\n",
            "Epoch 13/50\n",
            "181/181 [==============================] - 7s 41ms/step - loss: -16263.9355 - accuracy: 0.3561\n",
            "Epoch 14/50\n",
            "181/181 [==============================] - 7s 41ms/step - loss: -20719.1250 - accuracy: 0.3828\n",
            "Epoch 15/50\n",
            "181/181 [==============================] - 7s 41ms/step - loss: -23971.7656 - accuracy: 0.2956\n",
            "Epoch 16/50\n",
            "181/181 [==============================] - 7s 41ms/step - loss: -31504.5215 - accuracy: 0.3435\n",
            "Epoch 17/50\n",
            "181/181 [==============================] - 7s 41ms/step - loss: -38623.5977 - accuracy: 0.3823\n",
            "Epoch 18/50\n",
            "181/181 [==============================] - 7s 41ms/step - loss: -48317.3867 - accuracy: 0.3585\n",
            "Epoch 19/50\n",
            "181/181 [==============================] - 7s 41ms/step - loss: -60818.1523 - accuracy: 0.3652\n",
            "Epoch 20/50\n",
            "181/181 [==============================] - 7s 41ms/step - loss: -71366.7109 - accuracy: 0.3385\n",
            "Epoch 21/50\n",
            "181/181 [==============================] - 7s 41ms/step - loss: -82768.6641 - accuracy: 0.3509\n",
            "Epoch 22/50\n",
            "181/181 [==============================] - 8s 42ms/step - loss: -96407.8281 - accuracy: 0.3486\n",
            "Epoch 23/50\n",
            "181/181 [==============================] - 7s 41ms/step - loss: -114892.4219 - accuracy: 0.3661\n",
            "Epoch 24/50\n",
            "181/181 [==============================] - 7s 41ms/step - loss: -128808.5625 - accuracy: 0.3224\n",
            "Epoch 25/50\n",
            "181/181 [==============================] - 7s 41ms/step - loss: -142946.2969 - accuracy: 0.3671\n",
            "Epoch 26/50\n",
            "181/181 [==============================] - 7s 41ms/step - loss: -163192.7344 - accuracy: 0.3423\n",
            "Epoch 27/50\n",
            "181/181 [==============================] - 7s 41ms/step - loss: -188102.4375 - accuracy: 0.3690\n",
            "Epoch 28/50\n",
            "181/181 [==============================] - 7s 41ms/step - loss: -210841.6875 - accuracy: 0.3742\n",
            "Epoch 29/50\n",
            "181/181 [==============================] - 7s 41ms/step - loss: -234234.3438 - accuracy: 0.3991\n",
            "Epoch 30/50\n",
            "181/181 [==============================] - 7s 41ms/step - loss: -246812.7344 - accuracy: 0.3379\n",
            "Epoch 31/50\n",
            "181/181 [==============================] - 7s 41ms/step - loss: -264741.7500 - accuracy: 0.3379\n",
            "Epoch 32/50\n",
            "181/181 [==============================] - 7s 41ms/step - loss: -309853.7188 - accuracy: 0.3780\n",
            "Epoch 33/50\n",
            "181/181 [==============================] - 7s 41ms/step - loss: -338456.2188 - accuracy: 0.3511\n",
            "Epoch 34/50\n",
            "181/181 [==============================] - 7s 41ms/step - loss: -355592.8438 - accuracy: 0.3666\n",
            "Epoch 35/50\n",
            "181/181 [==============================] - 7s 41ms/step - loss: -402826.0000 - accuracy: 0.3528\n",
            "Epoch 36/50\n",
            "181/181 [==============================] - 7s 41ms/step - loss: -453452.0938 - accuracy: 0.3706\n",
            "Epoch 37/50\n",
            "181/181 [==============================] - 7s 41ms/step - loss: -498500.3750 - accuracy: 0.3737\n",
            "Epoch 38/50\n",
            "181/181 [==============================] - 7s 41ms/step - loss: -510921.8125 - accuracy: 0.3594\n",
            "Epoch 39/50\n",
            "181/181 [==============================] - 7s 41ms/step - loss: -572146.5000 - accuracy: 0.3611\n",
            "Epoch 40/50\n",
            "181/181 [==============================] - 7s 41ms/step - loss: -623920.6875 - accuracy: 0.3799\n",
            "Epoch 41/50\n",
            "181/181 [==============================] - 7s 41ms/step - loss: -652577.0000 - accuracy: 0.3623\n",
            "Epoch 42/50\n",
            "181/181 [==============================] - 7s 41ms/step - loss: -690223.3125 - accuracy: 0.3564\n",
            "Epoch 43/50\n",
            "181/181 [==============================] - 7s 41ms/step - loss: -783322.2500 - accuracy: 0.3932\n",
            "Epoch 44/50\n",
            "181/181 [==============================] - 7s 41ms/step - loss: -807811.3125 - accuracy: 0.3440\n",
            "Epoch 45/50\n",
            "181/181 [==============================] - 7s 41ms/step - loss: -856969.4375 - accuracy: 0.3348\n",
            "Epoch 46/50\n",
            "181/181 [==============================] - 7s 41ms/step - loss: -931222.4375 - accuracy: 0.4017\n",
            "Epoch 47/50\n",
            "181/181 [==============================] - 7s 41ms/step - loss: -947655.3125 - accuracy: 0.3758\n",
            "Epoch 48/50\n",
            "181/181 [==============================] - 7s 41ms/step - loss: -1048790.3750 - accuracy: 0.3728\n",
            "Epoch 49/50\n",
            "181/181 [==============================] - 7s 41ms/step - loss: -1132568.8750 - accuracy: 0.3732\n",
            "Epoch 50/50\n",
            "181/181 [==============================] - 7s 41ms/step - loss: -1202750.2500 - accuracy: 0.3920\n"
          ]
        }
      ],
      "source": [
        "history=model.fit(train_x,y,epochs=50)"
      ]
    },
    {
      "cell_type": "code",
      "execution_count": 24,
      "id": "af1711e0-4a00-4880-a0bc-4b8693738677",
      "metadata": {
        "id": "af1711e0-4a00-4880-a0bc-4b8693738677",
        "colab": {
          "base_uri": "https://localhost:8080/",
          "height": 570
        },
        "outputId": "0c52c46c-507d-4b7a-a53c-de73262ba4de"
      },
      "outputs": [
        {
          "output_type": "error",
          "ename": "KeyError",
          "evalue": "ignored",
          "traceback": [
            "\u001b[0;31m---------------------------------------------------------------------------\u001b[0m",
            "\u001b[0;31mKeyError\u001b[0m                                  Traceback (most recent call last)",
            "\u001b[0;32m<ipython-input-24-edf799ef3643>\u001b[0m in \u001b[0;36m<module>\u001b[0;34m()\u001b[0m\n\u001b[1;32m      6\u001b[0m   \u001b[0mplt\u001b[0m\u001b[0;34m.\u001b[0m\u001b[0mlegend\u001b[0m\u001b[0;34m(\u001b[0m\u001b[0;34m[\u001b[0m\u001b[0mstring\u001b[0m\u001b[0;34m,\u001b[0m \u001b[0;34m'val_'\u001b[0m\u001b[0;34m+\u001b[0m\u001b[0mstring\u001b[0m\u001b[0;34m]\u001b[0m\u001b[0;34m)\u001b[0m\u001b[0;34m\u001b[0m\u001b[0;34m\u001b[0m\u001b[0m\n\u001b[1;32m      7\u001b[0m   \u001b[0mplt\u001b[0m\u001b[0;34m.\u001b[0m\u001b[0mshow\u001b[0m\u001b[0;34m(\u001b[0m\u001b[0;34m)\u001b[0m\u001b[0;34m\u001b[0m\u001b[0;34m\u001b[0m\u001b[0m\n\u001b[0;32m----> 8\u001b[0;31m \u001b[0mplot_graphs\u001b[0m\u001b[0;34m(\u001b[0m\u001b[0mhistory\u001b[0m\u001b[0;34m,\u001b[0m \u001b[0;34m'accuracy'\u001b[0m\u001b[0;34m)\u001b[0m\u001b[0;34m\u001b[0m\u001b[0;34m\u001b[0m\u001b[0m\n\u001b[0m",
            "\u001b[0;32m<ipython-input-24-edf799ef3643>\u001b[0m in \u001b[0;36mplot_graphs\u001b[0;34m(history, string)\u001b[0m\n\u001b[1;32m      1\u001b[0m \u001b[0;32mdef\u001b[0m \u001b[0mplot_graphs\u001b[0m\u001b[0;34m(\u001b[0m\u001b[0mhistory\u001b[0m\u001b[0;34m,\u001b[0m \u001b[0mstring\u001b[0m\u001b[0;34m)\u001b[0m\u001b[0;34m:\u001b[0m\u001b[0;34m\u001b[0m\u001b[0;34m\u001b[0m\u001b[0m\n\u001b[1;32m      2\u001b[0m   \u001b[0mplt\u001b[0m\u001b[0;34m.\u001b[0m\u001b[0mplot\u001b[0m\u001b[0;34m(\u001b[0m\u001b[0mhistory\u001b[0m\u001b[0;34m.\u001b[0m\u001b[0mhistory\u001b[0m\u001b[0;34m[\u001b[0m\u001b[0mstring\u001b[0m\u001b[0;34m]\u001b[0m\u001b[0;34m)\u001b[0m\u001b[0;34m\u001b[0m\u001b[0;34m\u001b[0m\u001b[0m\n\u001b[0;32m----> 3\u001b[0;31m   \u001b[0mplt\u001b[0m\u001b[0;34m.\u001b[0m\u001b[0mplot\u001b[0m\u001b[0;34m(\u001b[0m\u001b[0mhistory\u001b[0m\u001b[0;34m.\u001b[0m\u001b[0mhistory\u001b[0m\u001b[0;34m[\u001b[0m\u001b[0;34m'val_'\u001b[0m\u001b[0;34m+\u001b[0m\u001b[0mstring\u001b[0m\u001b[0;34m]\u001b[0m\u001b[0;34m)\u001b[0m\u001b[0;34m\u001b[0m\u001b[0;34m\u001b[0m\u001b[0m\n\u001b[0m\u001b[1;32m      4\u001b[0m   \u001b[0mplt\u001b[0m\u001b[0;34m.\u001b[0m\u001b[0mxlabel\u001b[0m\u001b[0;34m(\u001b[0m\u001b[0;34m\"Epochs\"\u001b[0m\u001b[0;34m)\u001b[0m\u001b[0;34m\u001b[0m\u001b[0;34m\u001b[0m\u001b[0m\n\u001b[1;32m      5\u001b[0m   \u001b[0mplt\u001b[0m\u001b[0;34m.\u001b[0m\u001b[0mylabel\u001b[0m\u001b[0;34m(\u001b[0m\u001b[0mstring\u001b[0m\u001b[0;34m)\u001b[0m\u001b[0;34m\u001b[0m\u001b[0;34m\u001b[0m\u001b[0m\n",
            "\u001b[0;31mKeyError\u001b[0m: 'val_accuracy'"
          ]
        },
        {
          "output_type": "display_data",
          "data": {
            "image/png": "[encoded data removed]",
            "text/plain": [
              "<Figure size 432x288 with 1 Axes>"
            ]
          },
          "metadata": {
            "needs_background": "light"
          }
        }
      ],
      "source": [
        "def plot_graphs(history, string):\n",
        "  plt.plot(history.history[string])\n",
        "  plt.plot(history.history['val_'+string])\n",
        "  plt.xlabel(\"Epochs\")\n",
        "  plt.ylabel(string)\n",
        "  plt.legend([string, 'val_'+string])\n",
        "  plt.show()\n",
        "plot_graphs(history, 'accuracy')"
      ]
    },
    {
      "cell_type": "code",
      "execution_count": 25,
      "id": "1874d473-9696-4eca-b515-18efb378259e",
      "metadata": {
        "id": "1874d473-9696-4eca-b515-18efb378259e"
      },
      "outputs": [],
      "source": [
        "test=[\"this time market seems to be good\",\n",
        "      \"i cannot say anything this time it may be good may be bad\",\n",
        "      \"my money died its lost\",\n",
        "      \"i became billionaire yeah\",\n",
        "      \"i got profit\",\n",
        "      ]\n",
        "\n",
        "\n",
        "tokenizer1 = Tokenizer(num_words = 50, oov_token=\"<OOV>\")\n",
        "tokenizer1.fit_on_texts(test)\n",
        "test_x = pad_sequences(tokenizer1.texts_to_sequences(test),padding='pre', maxlen=50)"
      ]
    },
    {
      "cell_type": "code",
      "source": [
        "result=model.predict(test_x)"
      ],
      "metadata": {
        "id": "lHz6hf1Gkgn1"
      },
      "id": "lHz6hf1Gkgn1",
      "execution_count": 26,
      "outputs": []
    },
    {
      "cell_type": "code",
      "source": [
        "final=[]\n",
        "for i in range(len(result)):\n",
        "    if result[i] >=0.5:\n",
        "        final.append(1)\n",
        "    else:\n",
        "        final.append(-1)"
      ],
      "metadata": {
        "id": "lnVz7Ostko0V"
      },
      "id": "lnVz7Ostko0V",
      "execution_count": 27,
      "outputs": []
    },
    {
      "cell_type": "code",
      "source": [
        "final"
      ],
      "metadata": {
        "colab": {
          "base_uri": "https://localhost:8080/"
        },
        "id": "1C0IdmGtktRi",
        "outputId": "78f30614-ed8e-4244-f698-02f8d0c27f26"
      },
      "id": "1C0IdmGtktRi",
      "execution_count": 28,
      "outputs": [
        {
          "output_type": "execute_result",
          "data": {
            "text/plain": [
              "[-1, -1, -1, 1, -1]"
            ]
          },
          "metadata": {},
          "execution_count": 28
        }
      ]
    }
  ],
  "metadata": {
    "kernelspec": {
      "display_name": "Python 3 (ipykernel)",
      "language": "python",
      "name": "python3"
    },
    "language_info": {
      "codemirror_mode": {
        "name": "ipython",
        "version": 3
      },
      "file_extension": ".py",
      "mimetype": "text/x-python",
      "name": "python",
      "nbconvert_exporter": "python",
      "pygments_lexer": "ipython3",
      "version": "3.9.2"
    },
    "colab": {
      "name": "Untitled3-Copy1.ipynb",
      "provenance": []
    },
    "accelerator": "GPU"
  },
  "nbformat": 4,
  "nbformat_minor": 5
}